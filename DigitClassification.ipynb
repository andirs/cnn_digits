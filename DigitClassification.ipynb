{
 "cells": [
  {
   "cell_type": "markdown",
   "metadata": {},
   "source": [
    "# CNNs for Digits Classification\n",
    "This is a quick introduction into how to set up a Convolutional Neural Network to classify hand-drawn digits. Before getting started, I wanted to collect an unique set of data rather than relying to experience with the up- and downsides of \"not-battle-tested\" data. \n",
    "\n",
    "In order to do so, I created a (read modified an existing) JavaScript/HTML5 app and drew digits myself.\n",
    "\n",
    "The resulting model and website including a quick summary of all steps as well as an interactive front-end can be found [here](http://digits.rvbin.com). The dataset created for this model can be found [here](https://drive.google.com/open?id=1J1G1jK8hotALkZZWR07fTjrGfZvLkH2y)."
   ]
  },
  {
   "cell_type": "markdown",
   "metadata": {},
   "source": [
    "# Data Preprocessing\n",
    "To make the images usable for any CNN model, it is helpful to transform the information into arrays. We'll feed those number arrays into our model."
   ]
  },
  {
   "cell_type": "code",
   "execution_count": 42,
   "metadata": {},
   "outputs": [],
   "source": [
    "import numpy as np\n",
    "import math\n",
    "import os, sys\n",
    "import scipy\n",
    "import skimage.transform as sktransform\n",
    "import tensorflow as tf\n",
    "import time\n",
    "\n",
    "from collections import Counter\n",
    "from IPython.display import clear_output\n",
    "from matplotlib import pyplot as plt\n",
    "from PIL import Image\n",
    "from sklearn.model_selection import train_test_split\n",
    "\n",
    "%matplotlib inline\n",
    "\n",
    "random_state = 2018"
   ]
  },
  {
   "cell_type": "code",
   "execution_count": 2,
   "metadata": {},
   "outputs": [
    {
     "data": {
      "text/plain": [
       "['1_image_13.png', '8_image_0.jpg']"
      ]
     },
     "execution_count": 2,
     "metadata": {},
     "output_type": "execute_result"
    }
   ],
   "source": [
    "PREP_PATH = \"images/prep/\"\n",
    "os.listdir('images/prep/')"
   ]
  },
  {
   "cell_type": "code",
   "execution_count": 3,
   "metadata": {},
   "outputs": [],
   "source": [
    "test_img = '1_image_13.png'\n",
    "test_img2 = '8_image_0.jpg'\n",
    "path = PREP_PATH + test_img\n",
    "path2 = PREP_PATH + test_img2"
   ]
  },
  {
   "cell_type": "markdown",
   "metadata": {},
   "source": [
    "## Read in images\n",
    "Let's see how a test image looks like. `PIL` offers some easy accesible functions to handle image data even in jupyter notebooks."
   ]
  },
  {
   "cell_type": "code",
   "execution_count": 4,
   "metadata": {},
   "outputs": [],
   "source": [
    "def load_and_turn_to_array(path):\n",
    "    png = Image.open(path)\n",
    "    png.load()\n",
    "    return np.array(png)"
   ]
  },
  {
   "cell_type": "code",
   "execution_count": 5,
   "metadata": {},
   "outputs": [],
   "source": [
    "test_image1 = load_and_turn_to_array(path)"
   ]
  },
  {
   "cell_type": "markdown",
   "metadata": {},
   "source": [
    "The images have 4 channels and 256 x 256 pixels per channel. While the first 3 channels contain color information, the fourth dimension stores opacity values."
   ]
  },
  {
   "cell_type": "code",
   "execution_count": 6,
   "metadata": {},
   "outputs": [
    {
     "data": {
      "text/plain": [
       "<matplotlib.image.AxesImage at 0x7fc26138b898>"
      ]
     },
     "execution_count": 6,
     "metadata": {},
     "output_type": "execute_result"
    },
    {
     "data": {
      "image/png": "[encoded data removed]",
      "text/plain": [
       "<Figure size 432x288 with 1 Axes>"
      ]
     },
     "metadata": {},
     "output_type": "display_data"
    }
   ],
   "source": [
    "plt.imshow(test_image1)"
   ]
  },
  {
   "cell_type": "markdown",
   "metadata": {},
   "source": [
    "Since this dataset deals with strictly black and white images, the alpha channel contains enough information for us to move forward."
   ]
  },
  {
   "cell_type": "code",
   "execution_count": 7,
   "metadata": {},
   "outputs": [],
   "source": [
    "def grab_only_alpha_channel(img):\n",
    "    return img[:,:,3]"
   ]
  },
  {
   "cell_type": "code",
   "execution_count": 8,
   "metadata": {},
   "outputs": [],
   "source": [
    "only_alpha = grab_only_alpha_channel(test_image1)"
   ]
  },
  {
   "cell_type": "code",
   "execution_count": 9,
   "metadata": {},
   "outputs": [
    {
     "data": {
      "text/plain": [
       "(256, 256)"
      ]
     },
     "execution_count": 9,
     "metadata": {},
     "output_type": "execute_result"
    }
   ],
   "source": [
    "only_alpha.shape"
   ]
  },
  {
   "cell_type": "code",
   "execution_count": 10,
   "metadata": {},
   "outputs": [
    {
     "data": {
      "image/png": "[encoded data removed]",
      "text/plain": [
       "<Figure size 432x288 with 1 Axes>"
      ]
     },
     "metadata": {},
     "output_type": "display_data"
    }
   ],
   "source": [
    "_ = plt.imshow(only_alpha, cmap='gray')"
   ]
  },
  {
   "cell_type": "markdown",
   "metadata": {},
   "source": [
    "## Normalizing Values\n",
    "To make it easier for the gradients to find a minimum and progress faster, it is helpful to normalize the pixel values and range them inbetween 0 to 1. This can be achieved by simply dividing all values by 255, it's maximum value."
   ]
  },
  {
   "cell_type": "code",
   "execution_count": 11,
   "metadata": {},
   "outputs": [
    {
     "data": {
      "text/plain": [
       "array([[0, 0, 0, ..., 0, 0, 0],\n",
       "       [0, 0, 0, ..., 0, 0, 0],\n",
       "       [0, 0, 0, ..., 0, 0, 0],\n",
       "       ...,\n",
       "       [0, 0, 0, ..., 0, 0, 0],\n",
       "       [0, 0, 0, ..., 0, 0, 0],\n",
       "       [0, 0, 0, ..., 0, 0, 0]], dtype=uint8)"
      ]
     },
     "execution_count": 11,
     "metadata": {},
     "output_type": "execute_result"
    }
   ],
   "source": [
    "only_alpha"
   ]
  },
  {
   "cell_type": "code",
   "execution_count": 12,
   "metadata": {},
   "outputs": [],
   "source": [
    "def normalize_image(img):\n",
    "    img = img / 255.\n",
    "    return img"
   ]
  },
  {
   "cell_type": "code",
   "execution_count": 13,
   "metadata": {},
   "outputs": [],
   "source": [
    "normalized_alpha = normalize_image(only_alpha)"
   ]
  },
  {
   "cell_type": "code",
   "execution_count": 14,
   "metadata": {},
   "outputs": [
    {
     "data": {
      "image/png": "[encoded data removed]",
      "text/plain": [
       "<Figure size 432x288 with 1 Axes>"
      ]
     },
     "metadata": {},
     "output_type": "display_data"
    }
   ],
   "source": [
    "_ = plt.imshow(normalized_alpha, cmap='gray')"
   ]
  },
  {
   "cell_type": "markdown",
   "metadata": {},
   "source": [
    "## Create training set"
   ]
  },
  {
   "cell_type": "markdown",
   "metadata": {},
   "source": [
    "I handcrafted 101 images of every digit, to prepare a training and testing set. All these beauties are stored in the folder `images/digits/`. To download the images and reproduce the work in here, head over [here](https://drive.google.com/open?id=1J1G1jK8hotALkZZWR07fTjrGfZvLkH2y)."
   ]
  },
  {
   "cell_type": "code",
   "execution_count": 15,
   "metadata": {},
   "outputs": [],
   "source": [
    "DIGITS_IMAGE_PATH = 'images/digits/'\n",
    "\n",
    "def count_all_images(path):\n",
    "    counter = 0\n",
    "    for folder_name in os.listdir(path):\n",
    "        if folder_name in [str(x) for x in range(10)]:  # if foldername is a number from 0 to 9\n",
    "            for image_name in os.listdir(path + folder_name):\n",
    "                if 'png' in image_name:\n",
    "                    counter += 1\n",
    "    return counter"
   ]
  },
  {
   "cell_type": "code",
   "execution_count": 16,
   "metadata": {},
   "outputs": [
    {
     "name": "stdout",
     "output_type": "stream",
     "text": [
      "There are 1010 images in all folders\n"
     ]
    }
   ],
   "source": [
    "img_count = count_all_images(DIGITS_IMAGE_PATH)\n",
    "print (\"There are {} images in all folders\".format(img_count))"
   ]
  },
  {
   "cell_type": "markdown",
   "metadata": {},
   "source": [
    "In order to use those, we're going to read them in, and store them in numpy arrays. Those will come in handy when we're building our model later on. I'll go over the steps in a bit but for now, the summary of the ```generate_X_and_y``` function is: Read in all data, create a Y and X vetor, turn those images into arrays and store them in the proper format.\n",
    "\n",
    "> We'll hold on to the channel information - while it wouldn't be needed this format has evolved as a standard to deal with more complex information in i.e. RGB(A) format."
   ]
  },
  {
   "cell_type": "code",
   "execution_count": 17,
   "metadata": {},
   "outputs": [],
   "source": [
    "def generate_X_and_y(path, shape=(256, 256)):\n",
    "    img_count = count_all_images(path)\n",
    "    y_vect = np.zeros(shape=(img_count, 10))  # create empty vector for labels\n",
    "    X_vect = np.zeros(shape=(img_count, shape[0], shape[1], 1))  # create empty vector for images\n",
    "    counter = 0\n",
    "    for folder_name in os.listdir(path):\n",
    "        if folder_name in [str(x) for x in range(10)]:  # if foldername is a number from 0 to 9\n",
    "            # access folder\n",
    "            for file_name in os.listdir(path + folder_name):\n",
    "                if \"png\" in file_name:\n",
    "                    clear_output(wait=True)\n",
    "                    print (\"Working on image number {} (Label:  {} || Filename: {})\".format(\n",
    "                        counter, folder_name, file_name))\n",
    "                    tmp_img = load_and_turn_to_array(path + folder_name + '/' + file_name)\n",
    "                    tmp_img = grab_only_alpha_channel(tmp_img)\n",
    "                    y_tmp = np.zeros(shape=(10), dtype=int)\n",
    "                    y_tmp[int(folder_name)] = 1\n",
    "                    y_vect[counter] = y_tmp\n",
    "                    X_vect[counter, :, :, 0] = tmp_img\n",
    "                    counter += 1\n",
    "    return X_vect, y_vect"
   ]
  },
  {
   "cell_type": "code",
   "execution_count": 18,
   "metadata": {
    "scrolled": true
   },
   "outputs": [
    {
     "name": "stdout",
     "output_type": "stream",
     "text": [
      "Working on image number 1009 (Label:  9 || Filename: 9_image_72.png)\n"
     ]
    }
   ],
   "source": [
    "X_all, Y_all = generate_X_and_y(DIGITS_IMAGE_PATH, shape=(256,256))"
   ]
  },
  {
   "cell_type": "code",
   "execution_count": 19,
   "metadata": {},
   "outputs": [
    {
     "data": {
      "text/plain": [
       "(1010, 256, 256, 1)"
      ]
     },
     "execution_count": 19,
     "metadata": {},
     "output_type": "execute_result"
    }
   ],
   "source": [
    "X_all.shape"
   ]
  },
  {
   "cell_type": "code",
   "execution_count": 20,
   "metadata": {},
   "outputs": [],
   "source": [
    "X_train, X_test, Y_train, Y_test = train_test_split(\n",
    "    X_all, Y_all, test_size=.4, stratify=Y_all, random_state=random_state)"
   ]
  },
  {
   "cell_type": "code",
   "execution_count": 21,
   "metadata": {},
   "outputs": [],
   "source": [
    "X_dev, X_test, Y_dev, Y_test = train_test_split(\n",
    "    X_test, Y_test, test_size=.5, stratify=Y_test, random_state=random_state)"
   ]
  },
  {
   "cell_type": "markdown",
   "metadata": {},
   "source": [
    "## Show Images on a case-by-case basis\n",
    "To help with the display of images we craft a swifty function, that displays any given number in our dataset. "
   ]
  },
  {
   "cell_type": "code",
   "execution_count": 22,
   "metadata": {},
   "outputs": [],
   "source": [
    "def print_number_and_image(X, Y, image_number):\n",
    "    plt.imshow(X[image_number, :, :, 0], cmap='gray')\n",
    "    plt.show()\n",
    "    print (\"Label: {}\".format(Y[image_number]))\n",
    "    return Y[image_number]"
   ]
  },
  {
   "cell_type": "code",
   "execution_count": 23,
   "metadata": {},
   "outputs": [
    {
     "data": {
      "image/png": "[encoded data removed]",
      "text/plain": [
       "<Figure size 432x288 with 1 Axes>"
      ]
     },
     "metadata": {},
     "output_type": "display_data"
    },
    {
     "name": "stdout",
     "output_type": "stream",
     "text": [
      "Label: [0. 0. 0. 0. 0. 0. 0. 1. 0. 0.]\n"
     ]
    },
    {
     "data": {
      "text/plain": [
       "array([0., 0., 0., 0., 0., 0., 0., 1., 0., 0.])"
      ]
     },
     "execution_count": 23,
     "metadata": {},
     "output_type": "execute_result"
    }
   ],
   "source": [
    "print_number_and_image(X_all, Y_all, 777)  # prints label and plots image with index number 777 in X_all"
   ]
  },
  {
   "cell_type": "markdown",
   "metadata": {},
   "source": [
    "As a quick sanity check, let's take a look at the information we processed and how its stored."
   ]
  },
  {
   "cell_type": "code",
   "execution_count": 24,
   "metadata": {
    "scrolled": false
   },
   "outputs": [
    {
     "name": "stdout",
     "output_type": "stream",
     "text": [
      "Y_all contains 1010 labels stored as one-hot-encoded np.arrays of 10 classes (digits 0 to 9).\n"
     ]
    }
   ],
   "source": [
    "print (\"Y_all contains {} labels stored as one-hot-encoded np.arrays of {} classes (digits 0 to 9).\".format(\n",
    "    *Y_all.shape))"
   ]
  },
  {
   "cell_type": "code",
   "execution_count": 25,
   "metadata": {},
   "outputs": [
    {
     "name": "stdout",
     "output_type": "stream",
     "text": [
      "X_all contains 1010 images with the ratio 256 x 256 and 1 channel.\n"
     ]
    }
   ],
   "source": [
    "print (\"X_all contains {} images with the ratio {} x {} and {} channel.\".format(*X_all.shape))"
   ]
  },
  {
   "cell_type": "markdown",
   "metadata": {},
   "source": [
    "After masking, we end up with following data sets."
   ]
  },
  {
   "cell_type": "code",
   "execution_count": 26,
   "metadata": {},
   "outputs": [
    {
     "name": "stdout",
     "output_type": "stream",
     "text": [
      "X_train - shape: (606, 256, 256, 1)\n",
      "Y_train - shape: (606, 10)\n",
      "X_dev - shape: (202, 256, 256, 1)\n",
      "Y_dev - shape: (202, 10)\n",
      "X_test - shape: (202, 256, 256, 1)\n",
      "Y_test - shape: (202, 10)\n"
     ]
    }
   ],
   "source": [
    "print (\"X_train - shape: {}\".format(X_train.shape))\n",
    "print (\"Y_train - shape: {}\".format(Y_train.shape))\n",
    "print (\"X_dev - shape: {}\".format(X_dev.shape))\n",
    "print (\"Y_dev - shape: {}\".format(Y_dev.shape))\n",
    "print (\"X_test - shape: {}\".format(X_test.shape))\n",
    "print (\"Y_test - shape: {}\".format(Y_test.shape))"
   ]
  },
  {
   "cell_type": "markdown",
   "metadata": {},
   "source": [
    "606 images for training and each 202 images for development and testing."
   ]
  },
  {
   "cell_type": "markdown",
   "metadata": {},
   "source": [
    "## Model Creation"
   ]
  },
  {
   "cell_type": "markdown",
   "metadata": {},
   "source": [
    "Tensorflow offers a standardized way to create your own [custom estimators](https://www.tensorflow.org/get_started/custom_estimators). These estimators can be adjusted to fit your needs and structure. For our first base model we decided to go for the following setup:\n",
    "\n",
    "* Two convolutional layers, of a kernel size 5 x 5 each. \n",
    "    * The first layer with 32 \n",
    "    * The second with 64 filters\n",
    "* Both apply same padding and are activated through a ReLu function\n",
    "* After each convolutional layer max pooling is performed with a window size of 2x2 and a stride of 2. \n",
    "* After the second pooling step the multidimensional tensor is being flattened and fed through a fully connected layer with 1024 neurons. \n",
    "* This layer feeds into a fully connected layer with 10 units which determines the probability of the image being a certain class through softmax. "
   ]
  },
  {
   "cell_type": "code",
   "execution_count": 27,
   "metadata": {},
   "outputs": [],
   "source": [
    "def digit_cnn_base_fn(features, labels, mode):\n",
    "    \"\"\"\n",
    "    Convolutional Neural Network model to recognize hand-written digits.\n",
    "    \"\"\"\n",
    "    \n",
    "    # input layer\n",
    "    # [batch_size, image_width, image_height, channels]\n",
    "    # -1 means batch_size is being automatically computed\n",
    "    input_layer = tf.reshape(features[\"x\"], [-1, 256, 256, 1])\n",
    "    \n",
    "    # first convolution\n",
    "    conv1 = tf.layers.conv2d(\n",
    "        inputs=input_layer,\n",
    "        filters=32,\n",
    "        kernel_size=[5, 5],\n",
    "        padding=\"same\",\n",
    "        activation=tf.nn.relu)\n",
    "    \n",
    "    # pooling 1\n",
    "    pool1 = tf.layers.max_pooling2d(inputs=conv1, pool_size=[2, 2], strides=2)\n",
    "    \n",
    "    # second convolution\n",
    "    conv2 = tf.layers.conv2d(\n",
    "        inputs=pool1,\n",
    "        filters=64,\n",
    "        kernel_size=[5, 5],\n",
    "        padding=\"same\",\n",
    "        activation=tf.nn.relu)\n",
    "    \n",
    "    # pooling 2\n",
    "    pool2 = tf.layers.max_pooling2d(\n",
    "        inputs=conv2, \n",
    "        pool_size=[2, 2], \n",
    "        strides=2)\n",
    "    \n",
    "    # flatten data\n",
    "    pool2_flat = tf.reshape(pool2, [-1, 64 * 64 * 64])\n",
    "    \n",
    "    # first fully connected dense layer\n",
    "    dense = tf.layers.dense(\n",
    "        inputs=pool2_flat, \n",
    "        units=1024, \n",
    "        activation=tf.nn.relu)\n",
    "    \n",
    "    # second fully connected dense \"logits\" layer\n",
    "    logits = tf.layers.dense(inputs=dense, units=10)\n",
    "    \n",
    "    # if predicting and evaluating - generate predictions\n",
    "    predictions = {\n",
    "        \"class\": tf.argmax(logits, axis=1),\n",
    "        \"probabilities\": tf.nn.softmax(logits)\n",
    "    }\n",
    "    \n",
    "    if mode == tf.estimator.ModeKeys.PREDICT:\n",
    "        return tf.estimator.EstimatorSpec(mode=mode, predictions=predictions)\n",
    "    \n",
    "    # if training and evaluating - calculate loss\n",
    "    loss = tf.losses.sparse_softmax_cross_entropy(labels=labels, logits=logits)\n",
    "    \n",
    "    # define training mode\n",
    "    if mode == tf.estimator.ModeKeys.TRAIN:\n",
    "        \n",
    "        optimizer = tf.train.GradientDescentOptimizer(learning_rate=0.001)\n",
    "        eval_metrics_op = {\n",
    "            \"accuracy\": tf.metrics.accuracy(labels=labels, predictions=predictions[\"class\"])\n",
    "        }\n",
    "        \n",
    "        train_op = optimizer.minimize(\n",
    "            loss=loss,\n",
    "            global_step=tf.train.get_global_step())\n",
    "        return tf.estimator.EstimatorSpec(mode=mode, loss=loss, train_op=train_op, eval_metric_ops=eval_metrics_op)\n",
    "    \n",
    "    # define evaluation mode\n",
    "    if mode == tf.estimator.ModeKeys.EVAL:\n",
    "        eval_metrics_op = {\n",
    "            \"accuracy\": tf.metrics.accuracy(labels=labels, predictions=predictions[\"class\"])\n",
    "        }\n",
    "        return tf.estimator.EstimatorSpec(mode=mode, loss=loss, eval_metric_ops=eval_metrics_op)"
   ]
  },
  {
   "cell_type": "markdown",
   "metadata": {},
   "source": [
    "Next the data is being processed and put into the right input format for this custom estimator."
   ]
  },
  {
   "cell_type": "code",
   "execution_count": 28,
   "metadata": {},
   "outputs": [],
   "source": [
    "train_data = X_train\n",
    "train_data = train_data.astype(np.float32)"
   ]
  },
  {
   "cell_type": "code",
   "execution_count": 29,
   "metadata": {},
   "outputs": [
    {
     "name": "stdout",
     "output_type": "stream",
     "text": [
      "The training data has a shape of (606, 256, 256, 1) (number of images, width, height, channels)\n"
     ]
    }
   ],
   "source": [
    "print (\"The training data has a shape of {} (number of images, width, height, channels)\".format(train_data.shape))"
   ]
  },
  {
   "cell_type": "code",
   "execution_count": 30,
   "metadata": {},
   "outputs": [
    {
     "name": "stdout",
     "output_type": "stream",
     "text": [
      "The evaluation labels have a shape of (606, 10) (number of labels, number of classes)\n"
     ]
    }
   ],
   "source": [
    "print (\"The evaluation labels have a shape of {} (number of labels, number of classes)\".format(Y_train.shape))"
   ]
  },
  {
   "cell_type": "code",
   "execution_count": 31,
   "metadata": {},
   "outputs": [],
   "source": [
    "train_labels = Y_train\n",
    "eval_data = X_dev\n",
    "eval_labels = Y_dev\n",
    "eval_data = eval_data.astype(np.float32)"
   ]
  },
  {
   "cell_type": "markdown",
   "metadata": {},
   "source": [
    "Next we link the custom function with the TensorFlow Estimator class and retrieve everything. "
   ]
  },
  {
   "cell_type": "code",
   "execution_count": 32,
   "metadata": {},
   "outputs": [
    {
     "name": "stdout",
     "output_type": "stream",
     "text": [
      "INFO:tensorflow:Using default config.\n",
      "INFO:tensorflow:Using config: {'_model_dir': 'digit_base_model', '_tf_random_seed': None, '_save_summary_steps': 100, '_save_checkpoints_steps': None, '_save_checkpoints_secs': 600, '_session_config': None, '_keep_checkpoint_max': 5, '_keep_checkpoint_every_n_hours': 10000, '_log_step_count_steps': 100, '_service': None, '_cluster_spec': <tensorflow.python.training.server_lib.ClusterSpec object at 0x7fc26130df60>, '_task_type': 'worker', '_task_id': 0, '_master': '', '_is_chief': True, '_num_ps_replicas': 0, '_num_worker_replicas': 1}\n"
     ]
    }
   ],
   "source": [
    "tf.logging.set_verbosity(tf.logging.INFO)\n",
    "digit_base_classifier = tf.estimator.Estimator(\n",
    "    model_fn=digit_cnn_base_fn, model_dir=\"digit_base_model\")"
   ]
  },
  {
   "cell_type": "markdown",
   "metadata": {},
   "source": [
    "### Turn into Distinct Encodings"
   ]
  },
  {
   "cell_type": "code",
   "execution_count": 33,
   "metadata": {},
   "outputs": [],
   "source": [
    "def distinct_encoding(labels):\n",
    "    y_nohe = np.zeros(shape=(labels.shape[0], 1), dtype=int)\n",
    "    for idx, el in enumerate(labels):  # reformat into non-one-hot-encodings\n",
    "        y_nohe[idx] = np.argmax(el)\n",
    "    return y_nohe"
   ]
  },
  {
   "cell_type": "code",
   "execution_count": 34,
   "metadata": {},
   "outputs": [
    {
     "data": {
      "text/plain": [
       "(606, 1)"
      ]
     },
     "execution_count": 34,
     "metadata": {},
     "output_type": "execute_result"
    }
   ],
   "source": [
    "y_train_nohe = distinct_encoding(train_labels)\n",
    "y_train_nohe.shape"
   ]
  },
  {
   "cell_type": "code",
   "execution_count": 35,
   "metadata": {},
   "outputs": [],
   "source": [
    "train_base_input_fn = tf.estimator.inputs.numpy_input_fn(\n",
    "    x={\"x\": train_data},\n",
    "    y=y_train_nohe,\n",
    "    batch_size=32,\n",
    "    num_epochs=10,\n",
    "    shuffle=True)"
   ]
  },
  {
   "cell_type": "code",
   "execution_count": 36,
   "metadata": {},
   "outputs": [
    {
     "name": "stdout",
     "output_type": "stream",
     "text": [
      "INFO:tensorflow:Create CheckpointSaverHook.\n",
      "INFO:tensorflow:Saving checkpoints for 1 into digit_base_model/model.ckpt.\n",
      "INFO:tensorflow:loss = 14.315405, step = 1\n",
      "INFO:tensorflow:global_step/sec: 9.74701\n",
      "INFO:tensorflow:loss = 0.007737709, step = 101 (10.260 sec)\n",
      "INFO:tensorflow:Saving checkpoints for 190 into digit_base_model/model.ckpt.\n",
      "INFO:tensorflow:Loss for final step: 0.0024613673.\n"
     ]
    }
   ],
   "source": [
    "training_results = digit_base_classifier.train(\n",
    "    input_fn=train_base_input_fn,\n",
    "    steps=1000)"
   ]
  },
  {
   "cell_type": "code",
   "execution_count": 36,
   "metadata": {},
   "outputs": [],
   "source": [
    "y_eval_nohe = distinct_encoding(eval_labels)"
   ]
  },
  {
   "cell_type": "code",
   "execution_count": 38,
   "metadata": {
    "scrolled": true
   },
   "outputs": [
    {
     "name": "stdout",
     "output_type": "stream",
     "text": [
      "INFO:tensorflow:Starting evaluation at 2018-07-24-22:45:38\n",
      "INFO:tensorflow:Restoring parameters from digit_base_model/model.ckpt-190\n",
      "INFO:tensorflow:Finished evaluation at 2018-07-24-22:45:39\n",
      "INFO:tensorflow:Saving dict for global step 190: accuracy = 0.519802, global_step = 190, loss = 1.8483627\n",
      "{'accuracy': 0.519802, 'loss': 1.8483627, 'global_step': 190}\n"
     ]
    }
   ],
   "source": [
    "# Evaluate the model and print results\n",
    "eval_base_input_fn = tf.estimator.inputs.numpy_input_fn(\n",
    "    x={\"x\": eval_data},\n",
    "    y=y_eval_nohe,\n",
    "    num_epochs=1,\n",
    "    shuffle=False)\n",
    "eval_results = digit_base_classifier.evaluate(input_fn=eval_base_input_fn)\n",
    "print(eval_results)"
   ]
  },
  {
   "cell_type": "markdown",
   "metadata": {},
   "source": [
    "## Model\n",
    "Wait, what? Roughly 52 % accuracy on the development set? That can't be right. After running a few more tests an in-depth look at the numbers shows one possible reason. The model has an incredible high variance. In fact, on the training set, it shows close to 0 loss. It seems like the model is overfitting. In order to work our way around this problem, we take the first route and try regularizing the model. Adding a dropout layer with a dropout probability of 60 % should help to regularize the model. "
   ]
  },
  {
   "cell_type": "code",
   "execution_count": 37,
   "metadata": {},
   "outputs": [],
   "source": [
    "def digit_cnn_dropout_function(features, labels, mode):\n",
    "    \"\"\"\n",
    "    Convolutional Neural Network model to recognize hand-written digits.\n",
    "    \"\"\"\n",
    "    \n",
    "    # input layer\n",
    "    # [batch_size, image_width, image_height, channels]\n",
    "    # -1 means batch_size is being automatically computed\n",
    "    input_layer = tf.reshape(features[\"x\"], [-1, 256, 256, 1])\n",
    "    \n",
    "    # first convolution\n",
    "    conv1 = tf.layers.conv2d(\n",
    "        inputs=input_layer,\n",
    "        filters=32,\n",
    "        kernel_size=[5, 5],\n",
    "        padding=\"same\",\n",
    "        activation=tf.nn.relu)\n",
    "    \n",
    "    # pooling 1\n",
    "    pool1 = tf.layers.max_pooling2d(inputs=conv1, pool_size=[2, 2], strides=2)\n",
    "    \n",
    "    # second convolution\n",
    "    conv2 = tf.layers.conv2d(\n",
    "        inputs=pool1,\n",
    "        filters=64,\n",
    "        kernel_size=[5, 5],\n",
    "        padding=\"same\",\n",
    "        activation=tf.nn.relu)\n",
    "    \n",
    "    # pooling 2\n",
    "    pool2 = tf.layers.max_pooling2d(\n",
    "        inputs=conv2, \n",
    "        pool_size=[2, 2], \n",
    "        strides=2)\n",
    "    \n",
    "    # flatten data\n",
    "    pool2_flat = tf.reshape(pool2, [-1, 64 * 64 * 64])\n",
    "    \n",
    "    # first fully connected dense layer\n",
    "    dense = tf.layers.dense(\n",
    "        inputs=pool2_flat, \n",
    "        units=1024, \n",
    "        activation=tf.nn.relu)\n",
    "    \n",
    "    # dropout layer\n",
    "    dropout = tf.layers.dropout(\n",
    "        inputs=dense, \n",
    "        rate=.6, \n",
    "        training=mode == tf.estimator.ModeKeys.TRAIN)\n",
    "    \n",
    "    # second fully connected dense \"logits\" layer\n",
    "    logits = tf.layers.dense(inputs=dense, units=10)\n",
    "    \n",
    "    # if predicting and evaluating - generate predictions\n",
    "    predictions = {\n",
    "        \"class\": tf.argmax(logits, axis=1),\n",
    "        \"probabilities\": tf.nn.softmax(logits)\n",
    "    }\n",
    "    \n",
    "    if mode == tf.estimator.ModeKeys.PREDICT:\n",
    "        return tf.estimator.EstimatorSpec(mode=mode, predictions=predictions)\n",
    "    \n",
    "    # if training and evaluating - calculate loss\n",
    "    loss = tf.losses.sparse_softmax_cross_entropy(labels=labels, logits=logits)\n",
    "    \n",
    "    # define training mode\n",
    "    if mode == tf.estimator.ModeKeys.TRAIN:\n",
    "        optimizer = tf.train.GradientDescentOptimizer(learning_rate=0.001)\n",
    "        train_op = optimizer.minimize(\n",
    "            loss=loss,\n",
    "            global_step=tf.train.get_global_step())\n",
    "        return tf.estimator.EstimatorSpec(mode=mode, loss=loss, train_op=train_op)\n",
    "    \n",
    "    # define evaluation mode\n",
    "    if mode == tf.estimator.ModeKeys.EVAL:\n",
    "        eval_metrics_op = {\n",
    "            \"accuracy\": tf.metrics.accuracy(labels=labels, predictions=predictions[\"class\"])\n",
    "        }\n",
    "        return tf.estimator.EstimatorSpec(mode=mode, loss=loss, eval_metric_ops=eval_metrics_op)"
   ]
  },
  {
   "cell_type": "code",
   "execution_count": 38,
   "metadata": {},
   "outputs": [
    {
     "name": "stdout",
     "output_type": "stream",
     "text": [
      "INFO:tensorflow:Using default config.\n",
      "INFO:tensorflow:Using config: {'_model_dir': 'digit_dropout_model', '_tf_random_seed': None, '_save_summary_steps': 100, '_save_checkpoints_steps': None, '_save_checkpoints_secs': 600, '_session_config': None, '_keep_checkpoint_max': 5, '_keep_checkpoint_every_n_hours': 10000, '_log_step_count_steps': 100, '_service': None, '_cluster_spec': <tensorflow.python.training.server_lib.ClusterSpec object at 0x7fc225265208>, '_task_type': 'worker', '_task_id': 0, '_master': '', '_is_chief': True, '_num_ps_replicas': 0, '_num_worker_replicas': 1}\n"
     ]
    }
   ],
   "source": [
    "digit_dropout_classifier = tf.estimator.Estimator(\n",
    "    model_fn=digit_cnn_dropout_function, model_dir=\"digit_dropout_model\")"
   ]
  },
  {
   "cell_type": "code",
   "execution_count": 39,
   "metadata": {},
   "outputs": [],
   "source": [
    "train_dropout_input_fn = tf.estimator.inputs.numpy_input_fn(\n",
    "    x={\"x\": train_data},\n",
    "    y=y_train_nohe,\n",
    "    batch_size=32,\n",
    "    num_epochs=10,\n",
    "    shuffle=True)"
   ]
  },
  {
   "cell_type": "code",
   "execution_count": 45,
   "metadata": {},
   "outputs": [
    {
     "name": "stdout",
     "output_type": "stream",
     "text": [
      "INFO:tensorflow:Create CheckpointSaverHook.\n",
      "INFO:tensorflow:Saving checkpoints for 1 into digit_dropout_model/model.ckpt.\n",
      "INFO:tensorflow:loss = 16.82959, step = 1\n",
      "INFO:tensorflow:global_step/sec: 9.97865\n",
      "INFO:tensorflow:loss = 0.22032285, step = 101 (10.023 sec)\n",
      "INFO:tensorflow:Saving checkpoints for 190 into digit_dropout_model/model.ckpt.\n",
      "INFO:tensorflow:Loss for final step: 0.016385254.\n"
     ]
    },
    {
     "data": {
      "text/plain": [
       "<tensorflow.python.estimator.estimator.Estimator at 0x7f5322a06e10>"
      ]
     },
     "execution_count": 45,
     "metadata": {},
     "output_type": "execute_result"
    }
   ],
   "source": [
    "digit_dropout_classifier.train(\n",
    "    input_fn=train_dropout_input_fn,\n",
    "    steps=1000)"
   ]
  },
  {
   "cell_type": "code",
   "execution_count": 46,
   "metadata": {},
   "outputs": [
    {
     "name": "stdout",
     "output_type": "stream",
     "text": [
      "INFO:tensorflow:Starting evaluation at 2018-07-24-22:46:52\n",
      "INFO:tensorflow:Restoring parameters from digit_dropout_model/model.ckpt-190\n",
      "INFO:tensorflow:Finished evaluation at 2018-07-24-22:46:53\n",
      "INFO:tensorflow:Saving dict for global step 190: accuracy = 0.54950494, global_step = 190, loss = 1.7509946\n",
      "{'accuracy': 0.54950494, 'loss': 1.7509946, 'global_step': 190}\n"
     ]
    }
   ],
   "source": [
    "# Evaluate the model and print results\n",
    "eval_dropout_input_fn = tf.estimator.inputs.numpy_input_fn(\n",
    "    x={\"x\": eval_data},\n",
    "    y=y_eval_nohe,\n",
    "    num_epochs=1,\n",
    "    shuffle=False)\n",
    "eval_results = digit_dropout_classifier.evaluate(input_fn=eval_dropout_input_fn)\n",
    "print(eval_results)"
   ]
  },
  {
   "cell_type": "markdown",
   "metadata": {},
   "source": [
    "### Accuracy up - loss down\n",
    "Well. Looks like we got rid of some of the variance. And we slightly increased the accuracy. For a supervised learning task with 10 classes scoring 54% is still better than random guessing (which would yield around 10% accuracy) but we should be able to do better. Even with 10 epochs, the model should be able to perform better. Since we got rid of the overfitting problem, and seem to have a solid baseline it's time to move on and investigate the data.\n",
    "\n",
    "As widely known, neural nets perform best if enough data is being funneled into them. A total dataset of 1010 images hardly counts as exhaustive. (Even though gathering those 1010 images took quite some painting time). Luckily there might be hope for us that might free us up some time that we can spend watching cute animals rather than drawing 10,000 more images. `Data augmentation` to the rescue."
   ]
  },
  {
   "cell_type": "markdown",
   "metadata": {},
   "source": [
    "## Data Augmentation\n",
    "By simply shifting and rotating the images we should be able to vary the images so much that these generated images could count as new data. Let's try it. To perform this efficiently and make it faster to train we'll resize the existing images as well. Generating `28x28` pixel images."
   ]
  },
  {
   "cell_type": "markdown",
   "metadata": {},
   "source": [
    "### Zoom Shift\n",
    "First, to take into account smaller numbers as well as to make the model invariant to the drawing position we'll zoom out of the image and place the smaller digit in all four corners of the image. In combination with rotations this should give a broad variety of images to train on. (And also help with hiding my terrible hand-writing)."
   ]
  },
  {
   "cell_type": "code",
   "execution_count": 113,
   "metadata": {},
   "outputs": [],
   "source": [
    "def zoom_out_and_shift(img, label):\n",
    "    zeros_img = []\n",
    "    labels = [label] * 4\n",
    "    for i in range(4):\n",
    "        zeros_img.append(np.copy(np.zeros_like(img)))\n",
    "    zoomed_img = scipy.ndimage.zoom(img[:,:,0], .65)\n",
    "    zeros_img[0][:zoomed_img.shape[0],:zoomed_img.shape[1],0] = zoomed_img  # top left\n",
    "    zeros_img[1][-zoomed_img.shape[0]:,:zoomed_img.shape[1],0] = zoomed_img  # bottom left\n",
    "    zeros_img[2][:zoomed_img.shape[0],-zoomed_img.shape[1]:,0] = zoomed_img  # top right\n",
    "    zeros_img[3][-zoomed_img.shape[0]:,-zoomed_img.shape[1]:,0] = zoomed_img  # bottom right\n",
    "    return zeros_img, labels"
   ]
  },
  {
   "cell_type": "code",
   "execution_count": 114,
   "metadata": {},
   "outputs": [],
   "source": [
    "# zoom out and shift image to four corners\n",
    "X_zoom, Y_zoom = [], []\n",
    "for ximg, ylabel in zip(X_train, Y_train):\n",
    "    X_zoom.append(ximg)\n",
    "    Y_zoom.append(ylabel)\n",
    "    xzoom_tmp, yzoom_tmp = zoom_out_and_shift(ximg, ylabel)\n",
    "    X_zoom.extend(xzoom_tmp)\n",
    "    Y_zoom.extend(yzoom_tmp)"
   ]
  },
  {
   "cell_type": "markdown",
   "metadata": {},
   "source": [
    "After transformation for any of the 606 trainign examples 4 new images are added to the list. Those images look like this:"
   ]
  },
  {
   "cell_type": "code",
   "execution_count": 115,
   "metadata": {},
   "outputs": [],
   "source": [
    "def plot_zoom_images(xzoom, orig):\n",
    "    plt_images = []\n",
    "    plt_images.append(orig)\n",
    "    plt_images.extend(xzoom)\n",
    "    title_list = ['original', 'top_left', 'bottom_left', 'top_right', 'bottom_right']\n",
    "    w=10\n",
    "    h=10\n",
    "    fig=plt.figure(figsize=(14, 4))\n",
    "    columns = 5\n",
    "    rows = 1\n",
    "    for i in range(1, columns*rows +1):\n",
    "        fig.add_subplot(rows, columns, i)\n",
    "        plt.imshow(plt_images[i-1][:,:,0], cmap='gray')\n",
    "        plt.title(title_list[i-1])\n",
    "        plt.axis('off')\n",
    "    plt.show()"
   ]
  },
  {
   "cell_type": "code",
   "execution_count": 116,
   "metadata": {},
   "outputs": [
    {
     "data": {
      "image/png": "[encoded data removed]",
      "text/plain": [
       "<Figure size 1008x288 with 5 Axes>"
      ]
     },
     "metadata": {},
     "output_type": "display_data"
    }
   ],
   "source": [
    "plot_zoom_images(xzoom_tmp, ximg)"
   ]
  },
  {
   "cell_type": "code",
   "execution_count": 117,
   "metadata": {},
   "outputs": [
    {
     "name": "stdout",
     "output_type": "stream",
     "text": [
      "After zoom augmentation there are 3,030 images in the dataset.\n"
     ]
    }
   ],
   "source": [
    "print ('After zoom augmentation there are {:,} images in the dataset.'.format(len(X_zoom)))"
   ]
  },
  {
   "cell_type": "markdown",
   "metadata": {},
   "source": [
    "## Resize and Rotate\n",
    "Afterwards we'll resize and rotate those images to add even more images to the dataset."
   ]
  },
  {
   "cell_type": "code",
   "execution_count": 118,
   "metadata": {},
   "outputs": [],
   "source": [
    "def resize(X_aug):\n",
    "    X_new_aug = []\n",
    "    for X_tmp in X_aug:\n",
    "        X_new_aug.append(sktransform.resize(X_tmp, (28, 28)))\n",
    "    return np.array(X_new_aug)"
   ]
  },
  {
   "cell_type": "code",
   "execution_count": 119,
   "metadata": {},
   "outputs": [
    {
     "name": "stderr",
     "output_type": "stream",
     "text": [
      "/home/rvbin/.virtualenvs/digits_classifier/lib/python3.6/site-packages/skimage/transform/_warps.py:105: UserWarning: The default mode, 'constant', will be changed to 'reflect' in skimage 0.15.\n",
      "  warn(\"The default mode, 'constant', will be changed to 'reflect' in \"\n",
      "/home/rvbin/.virtualenvs/digits_classifier/lib/python3.6/site-packages/skimage/transform/_warps.py:110: UserWarning: Anti-aliasing will be enabled by default in skimage 0.15 to avoid aliasing artifacts when down-sampling images.\n",
      "  warn(\"Anti-aliasing will be enabled by default in skimage 0.15 to \"\n"
     ]
    }
   ],
   "source": [
    "X_train_resized = resize(X_zoom)"
   ]
  },
  {
   "cell_type": "code",
   "execution_count": 120,
   "metadata": {},
   "outputs": [
    {
     "data": {
      "text/plain": [
       "(3030, 28, 28, 1)"
      ]
     },
     "execution_count": 120,
     "metadata": {},
     "output_type": "execute_result"
    }
   ],
   "source": [
    "X_train_resized.shape"
   ]
  },
  {
   "cell_type": "code",
   "execution_count": 121,
   "metadata": {},
   "outputs": [],
   "source": [
    "def augment_images(X_train, Y_train):\n",
    "    aug_list = []\n",
    "    aug_y_list = []\n",
    "    for ix, XY in enumerate(zip(X_train, Y_train)):\n",
    "        X_tmp, Y_tmp = XY[0], XY[1]\n",
    "        tmp_label = np.argmax(Y_tmp)\n",
    "        if ix % 10 == 0:\n",
    "            clear_output(True)\n",
    "            print ('{} / {}'.format(ix, len(X_train)))\n",
    "        \n",
    "        for rot_num in range(1, 21, 2):\n",
    "            rot_img = scipy.ndimage.interpolation.rotate(X_tmp, rot_num, reshape=False)\n",
    "            aug_list.append(rot_img)\n",
    "            aug_y_list.append(tmp_label)\n",
    "        for rot_num in range(-20, 0, 2):\n",
    "            rot_img = scipy.ndimage.interpolation.rotate(X_tmp, rot_num, reshape=False)\n",
    "            aug_list.append(rot_img)\n",
    "            aug_y_list.append(tmp_label)\n",
    "            \n",
    "    \n",
    "    return np.array(aug_list), np.array(aug_y_list)"
   ]
  },
  {
   "cell_type": "code",
   "execution_count": 122,
   "metadata": {},
   "outputs": [
    {
     "name": "stdout",
     "output_type": "stream",
     "text": [
      "3020 / 3030\n"
     ]
    }
   ],
   "source": [
    "X_train_aug, y_train_aug = augment_images(X_train_resized, Y_zoom)"
   ]
  },
  {
   "cell_type": "code",
   "execution_count": 126,
   "metadata": {},
   "outputs": [
    {
     "name": "stdout",
     "output_type": "stream",
     "text": [
      "After augmentation and resizing we have 60,600 images with shape 28 x 28 x 1\n"
     ]
    }
   ],
   "source": [
    "print ('After augmentation and resizing we have {:,} images with shape {} x {} x {}'.format(*X_train_aug.shape))"
   ]
  },
  {
   "cell_type": "markdown",
   "metadata": {},
   "source": [
    "Those images look similar to this:"
   ]
  },
  {
   "cell_type": "code",
   "execution_count": 130,
   "metadata": {},
   "outputs": [
    {
     "data": {
      "image/png": "[encoded data removed]",
      "text/plain": [
       "<Figure size 432x288 with 1 Axes>"
      ]
     },
     "metadata": {},
     "output_type": "display_data"
    },
    {
     "name": "stdout",
     "output_type": "stream",
     "text": [
      "Label: 2\n"
     ]
    },
    {
     "data": {
      "text/plain": [
       "2"
      ]
     },
     "execution_count": 130,
     "metadata": {},
     "output_type": "execute_result"
    }
   ],
   "source": [
    "print_number_and_image(X_train_aug, y_train_aug, 23484)"
   ]
  },
  {
   "cell_type": "markdown",
   "metadata": {},
   "source": [
    "## Dev Set Pre-Processing\n",
    "Now we have to do the same pre-processing to the development set. We won't augment the data set since we'll take it as an estimation on how well the model performs on unseen data."
   ]
  },
  {
   "cell_type": "code",
   "execution_count": 131,
   "metadata": {},
   "outputs": [
    {
     "data": {
      "text/plain": [
       "(202, 256, 256, 1)"
      ]
     },
     "execution_count": 131,
     "metadata": {},
     "output_type": "execute_result"
    }
   ],
   "source": [
    "X_dev.shape"
   ]
  },
  {
   "cell_type": "code",
   "execution_count": 132,
   "metadata": {},
   "outputs": [
    {
     "name": "stderr",
     "output_type": "stream",
     "text": [
      "/home/rvbin/.virtualenvs/digits_classifier/lib/python3.6/site-packages/skimage/transform/_warps.py:105: UserWarning: The default mode, 'constant', will be changed to 'reflect' in skimage 0.15.\n",
      "  warn(\"The default mode, 'constant', will be changed to 'reflect' in \"\n",
      "/home/rvbin/.virtualenvs/digits_classifier/lib/python3.6/site-packages/skimage/transform/_warps.py:110: UserWarning: Anti-aliasing will be enabled by default in skimage 0.15 to avoid aliasing artifacts when down-sampling images.\n",
      "  warn(\"Anti-aliasing will be enabled by default in skimage 0.15 to \"\n"
     ]
    }
   ],
   "source": [
    "X_dev_resized = resize(X_dev)"
   ]
  },
  {
   "cell_type": "code",
   "execution_count": 133,
   "metadata": {},
   "outputs": [
    {
     "data": {
      "text/plain": [
       "(202, 28, 28, 1)"
      ]
     },
     "execution_count": 133,
     "metadata": {},
     "output_type": "execute_result"
    }
   ],
   "source": [
    "X_dev_resized.shape"
   ]
  },
  {
   "cell_type": "code",
   "execution_count": 134,
   "metadata": {},
   "outputs": [],
   "source": [
    "X_dev_resized = X_dev_resized.astype(np.float32)"
   ]
  },
  {
   "cell_type": "code",
   "execution_count": 135,
   "metadata": {},
   "outputs": [],
   "source": [
    "X_train_aug = X_train_aug.astype(np.float32)"
   ]
  },
  {
   "cell_type": "markdown",
   "metadata": {},
   "source": [
    "## Model with Dropout\n",
    "Below is a sketch of the model. To help the model generalize better to new data, a dropout step between the first dense and the final layer is introduced"
   ]
  },
  {
   "cell_type": "markdown",
   "metadata": {},
   "source": [
    "![CNN Structure](nb_img/cnn_structure.png)"
   ]
  },
  {
   "cell_type": "code",
   "execution_count": 169,
   "metadata": {},
   "outputs": [],
   "source": [
    "def digit_cnn_aug_dropout_function(features, labels, mode):\n",
    "    \"\"\"\n",
    "    Convolutional Neural Network model to recognize hand-written digits.\n",
    "    \"\"\"\n",
    "    \n",
    "    # input layer\n",
    "    # [batch_size, image_width, image_height, channels]\n",
    "    # -1 means batch_size is being automatically computed\n",
    "    input_layer = tf.reshape(features[\"x\"], [-1, 28, 28, 1])\n",
    "    \n",
    "    # first convolution\n",
    "    conv1 = tf.layers.conv2d(\n",
    "        inputs=input_layer,\n",
    "        filters=32,\n",
    "        kernel_size=[5, 5],\n",
    "        padding=\"same\",\n",
    "        activation=tf.nn.relu)\n",
    "    \n",
    "    # pooling 1\n",
    "    pool1 = tf.layers.max_pooling2d(inputs=conv1, pool_size=[2, 2], strides=2)\n",
    "    \n",
    "    # second convolution\n",
    "    conv2 = tf.layers.conv2d(\n",
    "        inputs=pool1,\n",
    "        filters=64,\n",
    "        kernel_size=[5, 5],\n",
    "        padding=\"same\",\n",
    "        activation=tf.nn.relu)\n",
    "    \n",
    "    # pooling 2\n",
    "    pool2 = tf.layers.max_pooling2d(\n",
    "        inputs=conv2, \n",
    "        pool_size=[2, 2], \n",
    "        strides=2)\n",
    "    \n",
    "    # flatten data\n",
    "    pool2_flat = tf.reshape(pool2, [-1, 7 * 7 * 64])\n",
    "    \n",
    "    # first fully connected dense layer\n",
    "    dense = tf.layers.dense(\n",
    "        inputs=pool2_flat, \n",
    "        units=1024, \n",
    "        activation=tf.nn.relu)\n",
    "    \n",
    "    # dropout layer\n",
    "    dropout = tf.layers.dropout(\n",
    "        inputs=dense, \n",
    "        rate=.4, \n",
    "        training=mode == tf.estimator.ModeKeys.TRAIN)\n",
    "    \n",
    "    # second fully connected dense \"logits\" layer\n",
    "    logits = tf.layers.dense(inputs=dense, units=10)\n",
    "    \n",
    "    # if predicting and evaluating - generate predictions\n",
    "    predictions = {\n",
    "        \"class\": tf.argmax(logits, axis=1),\n",
    "        \"probabilities\": tf.nn.softmax(logits)\n",
    "    }\n",
    "    \n",
    "    if mode == tf.estimator.ModeKeys.PREDICT:\n",
    "        return tf.estimator.EstimatorSpec(mode=mode, predictions=predictions)\n",
    "    \n",
    "    # if training and evaluating - calculate loss\n",
    "    loss = tf.losses.sparse_softmax_cross_entropy(labels=labels, logits=logits)\n",
    "    \n",
    "    # define training mode\n",
    "    if mode == tf.estimator.ModeKeys.TRAIN:\n",
    "        optimizer = tf.train.AdamOptimizer(learning_rate=0.001)\n",
    "        train_op = optimizer.minimize(\n",
    "            loss=loss,\n",
    "            global_step=tf.train.get_global_step())\n",
    "        return tf.estimator.EstimatorSpec(mode=mode, loss=loss, train_op=train_op)\n",
    "    \n",
    "    # define evaluation mode\n",
    "    if mode == tf.estimator.ModeKeys.EVAL:\n",
    "        eval_metrics_op = {\n",
    "            \"accuracy\": tf.metrics.accuracy(labels=labels, predictions=predictions[\"class\"])\n",
    "        }\n",
    "        return tf.estimator.EstimatorSpec(mode=mode, loss=loss, eval_metric_ops=eval_metrics_op)"
   ]
  },
  {
   "cell_type": "code",
   "execution_count": 170,
   "metadata": {},
   "outputs": [
    {
     "name": "stdout",
     "output_type": "stream",
     "text": [
      "INFO:tensorflow:Using default config.\n",
      "INFO:tensorflow:Using config: {'_model_dir': 'digit_final', '_tf_random_seed': None, '_save_summary_steps': 100, '_save_checkpoints_steps': None, '_save_checkpoints_secs': 600, '_session_config': None, '_keep_checkpoint_max': 5, '_keep_checkpoint_every_n_hours': 10000, '_log_step_count_steps': 100, '_service': None, '_cluster_spec': <tensorflow.python.training.server_lib.ClusterSpec object at 0x7fc2245c7278>, '_task_type': 'worker', '_task_id': 0, '_master': '', '_is_chief': True, '_num_ps_replicas': 0, '_num_worker_replicas': 1}\n"
     ]
    }
   ],
   "source": [
    "digit_aug_dropout_classifier = tf.estimator.Estimator(\n",
    "    model_fn=digit_cnn_aug_dropout_function, model_dir=\"digit_final\")"
   ]
  },
  {
   "cell_type": "markdown",
   "metadata": {},
   "source": [
    "In addition the data is normalized to help the model converge quicker. "
   ]
  },
  {
   "cell_type": "code",
   "execution_count": 152,
   "metadata": {},
   "outputs": [],
   "source": [
    "X_train_aug_norm = X_train_aug / 255."
   ]
  },
  {
   "cell_type": "code",
   "execution_count": 153,
   "metadata": {},
   "outputs": [
    {
     "data": {
      "text/plain": [
       "(28, 28, 1)"
      ]
     },
     "execution_count": 153,
     "metadata": {},
     "output_type": "execute_result"
    }
   ],
   "source": [
    "X_train_aug_norm[0].shape"
   ]
  },
  {
   "cell_type": "code",
   "execution_count": 154,
   "metadata": {},
   "outputs": [],
   "source": [
    "y_dev_real = []\n",
    "for a in Y_dev:\n",
    "    y_dev_real.append(np.argmax(a))"
   ]
  },
  {
   "cell_type": "code",
   "execution_count": 155,
   "metadata": {},
   "outputs": [
    {
     "data": {
      "image/png": "[encoded data removed]",
      "text/plain": [
       "<Figure size 432x288 with 1 Axes>"
      ]
     },
     "metadata": {},
     "output_type": "display_data"
    },
    {
     "name": "stdout",
     "output_type": "stream",
     "text": [
      "Label: 9\n"
     ]
    }
   ],
   "source": [
    "_ = print_number_and_image(X_train_aug_norm, y_train_aug, 244)"
   ]
  },
  {
   "cell_type": "markdown",
   "metadata": {},
   "source": [
    "Making sure the stratification has worked properly and all numbers are equally represented in the evaluation data set,"
   ]
  },
  {
   "cell_type": "code",
   "execution_count": 156,
   "metadata": {},
   "outputs": [
    {
     "data": {
      "text/plain": [
       "Counter({0: 20, 1: 20, 2: 20, 3: 20, 4: 20, 5: 20, 6: 20, 7: 21, 8: 21, 9: 20})"
      ]
     },
     "execution_count": 156,
     "metadata": {},
     "output_type": "execute_result"
    }
   ],
   "source": [
    "Counter(y_dev_real)"
   ]
  },
  {
   "cell_type": "code",
   "execution_count": 189,
   "metadata": {},
   "outputs": [],
   "source": [
    "train_aug_dropout_input_fn = tf.estimator.inputs.numpy_input_fn(\n",
    "    x={\"x\": X_train_aug_norm},\n",
    "    y=y_train_aug,\n",
    "    batch_size=32,\n",
    "    num_epochs=100,\n",
    "    shuffle=True)"
   ]
  },
  {
   "cell_type": "code",
   "execution_count": 190,
   "metadata": {},
   "outputs": [
    {
     "name": "stdout",
     "output_type": "stream",
     "text": [
      "INFO:tensorflow:Create CheckpointSaverHook.\n",
      "INFO:tensorflow:Restoring parameters from digit_final/model.ckpt-4000\n",
      "INFO:tensorflow:Saving checkpoints for 4001 into digit_final/model.ckpt.\n",
      "INFO:tensorflow:loss = 0.046797678, step = 4001\n",
      "INFO:tensorflow:global_step/sec: 264.294\n",
      "INFO:tensorflow:loss = 0.000934153, step = 4101 (0.379 sec)\n",
      "INFO:tensorflow:global_step/sec: 336.105\n",
      "INFO:tensorflow:loss = 0.03070413, step = 4201 (0.297 sec)\n",
      "INFO:tensorflow:global_step/sec: 327.893\n",
      "INFO:tensorflow:loss = 0.005239717, step = 4301 (0.305 sec)\n",
      "INFO:tensorflow:global_step/sec: 311.907\n",
      "INFO:tensorflow:loss = 0.0116049675, step = 4401 (0.321 sec)\n",
      "INFO:tensorflow:global_step/sec: 340.348\n",
      "INFO:tensorflow:loss = 0.0016865698, step = 4501 (0.294 sec)\n",
      "INFO:tensorflow:global_step/sec: 345.498\n",
      "INFO:tensorflow:loss = 0.0021787176, step = 4601 (0.290 sec)\n",
      "INFO:tensorflow:global_step/sec: 347.513\n",
      "INFO:tensorflow:loss = 0.00015165872, step = 4701 (0.288 sec)\n",
      "INFO:tensorflow:global_step/sec: 305.42\n",
      "INFO:tensorflow:loss = 0.0006335682, step = 4801 (0.327 sec)\n",
      "INFO:tensorflow:global_step/sec: 332.139\n",
      "INFO:tensorflow:loss = 0.0057921275, step = 4901 (0.301 sec)\n",
      "INFO:tensorflow:Saving checkpoints for 5000 into digit_final/model.ckpt.\n",
      "INFO:tensorflow:Loss for final step: 0.0001366562.\n"
     ]
    },
    {
     "data": {
      "text/plain": [
       "<tensorflow.python.estimator.estimator.Estimator at 0x7fc2245c7208>"
      ]
     },
     "execution_count": 190,
     "metadata": {},
     "output_type": "execute_result"
    }
   ],
   "source": [
    "digit_aug_dropout_classifier.train(\n",
    "    input_fn=train_aug_dropout_input_fn,\n",
    "    steps=1000)"
   ]
  },
  {
   "cell_type": "code",
   "execution_count": 191,
   "metadata": {},
   "outputs": [],
   "source": [
    "X_dev_resized_norm = X_dev_resized / 255."
   ]
  },
  {
   "cell_type": "code",
   "execution_count": 192,
   "metadata": {},
   "outputs": [],
   "source": [
    "y_dev_nohe = distinct_encoding(Y_dev)"
   ]
  },
  {
   "cell_type": "code",
   "execution_count": 193,
   "metadata": {},
   "outputs": [
    {
     "name": "stdout",
     "output_type": "stream",
     "text": [
      "INFO:tensorflow:Starting evaluation at 2018-07-25-15:39:39\n",
      "INFO:tensorflow:Restoring parameters from digit_final/model.ckpt-5000\n",
      "INFO:tensorflow:Finished evaluation at 2018-07-25-15:39:39\n",
      "INFO:tensorflow:Saving dict for global step 5000: accuracy = 0.9752475, global_step = 5000, loss = 0.117541224\n",
      "{'accuracy': 0.9752475, 'loss': 0.117541224, 'global_step': 5000}\n"
     ]
    }
   ],
   "source": [
    "# Evaluate the model and print results\n",
    "eval_dropout_input_fn = tf.estimator.inputs.numpy_input_fn(\n",
    "    x={\"x\": X_dev_resized_norm},\n",
    "    y=y_dev_nohe,\n",
    "    num_epochs=1,\n",
    "    shuffle=False)\n",
    "eval_results = digit_aug_dropout_classifier.evaluate(input_fn=eval_dropout_input_fn)\n",
    "print(eval_results)"
   ]
  },
  {
   "cell_type": "markdown",
   "metadata": {},
   "source": [
    "After the first training process the evaluation accuracy already beats 95%. By repeating the training process another 3 times we're able to increase this to 97.52 %. "
   ]
  },
  {
   "cell_type": "markdown",
   "metadata": {},
   "source": [
    "# Testing the Model\n",
    "Let's see how the model is performing on data it has not seen yet. Since we used the development set for - well - development, it's highly likely we've been secretly overfitting to reduce the error rate on that set. Now it's time to put this to the test and get a good estimation on how well - or poor - we might perform in the real world of digit classification. "
   ]
  },
  {
   "cell_type": "markdown",
   "metadata": {},
   "source": [
    "## Trial Predictions\n",
    "First let's check out the prediction process on some sample data. We'll be using three digits from the training set and go through the prediction pipeline. This is the same function that will interface with any image data a user will input to the application."
   ]
  },
  {
   "cell_type": "code",
   "execution_count": 204,
   "metadata": {},
   "outputs": [],
   "source": [
    "list_of_examples = [2566, 1999, 345]\n",
    "pred_data = X_train_aug_norm[list_of_examples]"
   ]
  },
  {
   "cell_type": "code",
   "execution_count": 205,
   "metadata": {},
   "outputs": [],
   "source": [
    "pred_input_fn = tf.estimator.inputs.numpy_input_fn(\n",
    "    x={\"x\": pred_data},\n",
    "    shuffle=False)"
   ]
  },
  {
   "cell_type": "code",
   "execution_count": 259,
   "metadata": {},
   "outputs": [],
   "source": [
    "pred_results = digit_aug_dropout_classifier.predict(pred_input_fn)"
   ]
  },
  {
   "cell_type": "code",
   "execution_count": 260,
   "metadata": {
    "scrolled": true
   },
   "outputs": [
    {
     "name": "stdout",
     "output_type": "stream",
     "text": [
      "INFO:tensorflow:Restoring parameters from digit_final/model.ckpt-5000\n",
      "Class: 3 - Probabilities: \n",
      "0 (0.0 %) 1 (0.0 %) 2 (0.0 %) 3 (100.0 %) 4 (0.0 %) 5 (0.0 %) 6 (0.0 %) 7 (0.0 %) 8 (0.0 %) 9 (0.0 %) \n",
      "Class: 2 - Probabilities: \n",
      "0 (0.0 %) 1 (0.0 %) 2 (100.0 %) 3 (0.0 %) 4 (0.0 %) 5 (0.0 %) 6 (0.0 %) 7 (0.0 %) 8 (0.0 %) 9 (0.0 %) \n",
      "Class: 8 - Probabilities: \n",
      "0 (0.14 %) 1 (0.0 %) 2 (0.0 %) 3 (0.01 %) 4 (0.0 %) 5 (0.0 %) 6 (0.0 %) 7 (0.0 %) 8 (95.67 %) 9 (4.18 %) \n"
     ]
    }
   ],
   "source": [
    "for pred in pred_results:\n",
    "    print ('Class: {} - Probabilities: '.format(pred['class']))\n",
    "    output_str = ''\n",
    "    for a, b in enumerate(pred['probabilities']):\n",
    "        output_str += str(a) + ' (' + str(round(b * 100., 2)) + ' %) '\n",
    "    print (output_str)\n",
    "    #print (pred['class'], pred['probabilities'])"
   ]
  },
  {
   "cell_type": "markdown",
   "metadata": {},
   "source": [
    "Let's do a quick sanity check that we're predicting the correct digits again."
   ]
  },
  {
   "cell_type": "code",
   "execution_count": 261,
   "metadata": {
    "scrolled": false
   },
   "outputs": [
    {
     "data": {
      "image/png": "[encoded data removed]",
      "text/plain": [
       "<Figure size 432x288 with 1 Axes>"
      ]
     },
     "metadata": {},
     "output_type": "display_data"
    },
    {
     "name": "stdout",
     "output_type": "stream",
     "text": [
      "Label: 3\n"
     ]
    },
    {
     "data": {
      "image/png": "[encoded data removed]",
      "text/plain": [
       "<Figure size 432x288 with 1 Axes>"
      ]
     },
     "metadata": {},
     "output_type": "display_data"
    },
    {
     "name": "stdout",
     "output_type": "stream",
     "text": [
      "Label: 2\n"
     ]
    },
    {
     "data": {
      "image/png": "[encoded data removed]",
      "text/plain": [
       "<Figure size 432x288 with 1 Axes>"
      ]
     },
     "metadata": {},
     "output_type": "display_data"
    },
    {
     "name": "stdout",
     "output_type": "stream",
     "text": [
      "Label: 8\n"
     ]
    }
   ],
   "source": [
    "for example in list_of_examples:\n",
    "    print_number_and_image(X_train_aug, y_train_aug, example)"
   ]
  },
  {
   "cell_type": "code",
   "execution_count": 262,
   "metadata": {},
   "outputs": [
    {
     "data": {
      "text/plain": [
       "(202, 256, 256, 1)"
      ]
     },
     "execution_count": 262,
     "metadata": {},
     "output_type": "execute_result"
    }
   ],
   "source": [
    "X_test.shape"
   ]
  },
  {
   "cell_type": "markdown",
   "metadata": {},
   "source": [
    "Next we'll resize and normalize the test set as well. For the application to work well we need to incorporate this pre-processing step into the pipeline for new images."
   ]
  },
  {
   "cell_type": "code",
   "execution_count": 196,
   "metadata": {},
   "outputs": [
    {
     "name": "stderr",
     "output_type": "stream",
     "text": [
      "/home/rvbin/.virtualenvs/digits_classifier/lib/python3.6/site-packages/skimage/transform/_warps.py:105: UserWarning: The default mode, 'constant', will be changed to 'reflect' in skimage 0.15.\n",
      "  warn(\"The default mode, 'constant', will be changed to 'reflect' in \"\n",
      "/home/rvbin/.virtualenvs/digits_classifier/lib/python3.6/site-packages/skimage/transform/_warps.py:110: UserWarning: Anti-aliasing will be enabled by default in skimage 0.15 to avoid aliasing artifacts when down-sampling images.\n",
      "  warn(\"Anti-aliasing will be enabled by default in skimage 0.15 to \"\n"
     ]
    }
   ],
   "source": [
    "X_test_resized = resize(X_test)\n",
    "X_test_resized_norm = X_test_resized / 255.\n",
    "X_test_resized_norm = X_test_resized_norm.astype(np.float32)"
   ]
  },
  {
   "cell_type": "markdown",
   "metadata": {},
   "source": [
    "Encode y labels from one-hot-encoding to a distinct representation of the class."
   ]
  },
  {
   "cell_type": "code",
   "execution_count": 200,
   "metadata": {},
   "outputs": [],
   "source": [
    "Y_test_nohe = distinct_encoding(Y_test)"
   ]
  },
  {
   "cell_type": "markdown",
   "metadata": {},
   "source": [
    "Sanity check that X and y data matches."
   ]
  },
  {
   "cell_type": "code",
   "execution_count": 201,
   "metadata": {},
   "outputs": [
    {
     "data": {
      "image/png": "[encoded data removed]",
      "text/plain": [
       "<Figure size 432x288 with 1 Axes>"
      ]
     },
     "metadata": {},
     "output_type": "display_data"
    },
    {
     "name": "stdout",
     "output_type": "stream",
     "text": [
      "Label: [5]\n"
     ]
    },
    {
     "data": {
      "text/plain": [
       "array([5])"
      ]
     },
     "execution_count": 201,
     "metadata": {},
     "output_type": "execute_result"
    }
   ],
   "source": [
    "print_number_and_image(X_test_resized_norm, Y_test_nohe, 150)"
   ]
  },
  {
   "cell_type": "code",
   "execution_count": 203,
   "metadata": {},
   "outputs": [
    {
     "name": "stdout",
     "output_type": "stream",
     "text": [
      "INFO:tensorflow:Starting evaluation at 2018-07-25-16:03:59\n",
      "INFO:tensorflow:Restoring parameters from digit_final/model.ckpt-5000\n",
      "INFO:tensorflow:Finished evaluation at 2018-07-25-16:03:59\n",
      "INFO:tensorflow:Saving dict for global step 5000: accuracy = 0.9653465, global_step = 5000, loss = 0.18451256\n",
      "{'accuracy': 0.9653465, 'loss': 0.18451256, 'global_step': 5000}\n"
     ]
    }
   ],
   "source": [
    "test_dropout_input_fn = tf.estimator.inputs.numpy_input_fn(\n",
    "    x={\"x\": X_test_resized_norm},\n",
    "    y=Y_test_nohe,\n",
    "    num_epochs=1,\n",
    "    shuffle=False)\n",
    "test_results = digit_aug_dropout_classifier.evaluate(input_fn=test_dropout_input_fn)\n",
    "print(test_results)"
   ]
  },
  {
   "cell_type": "markdown",
   "metadata": {},
   "source": [
    "A 96.53% accuracy on the test set. That's quite the result given we started off with only 1010 images."
   ]
  },
  {
   "cell_type": "markdown",
   "metadata": {},
   "source": [
    "## Training Pre-Trained Model\n",
    "In case you were wondering how to train an existing model with new data. Here is the gist of it. It's essentially just loading the last checkpoint and funnels new training data into the model. "
   ]
  },
  {
   "cell_type": "code",
   "execution_count": 263,
   "metadata": {},
   "outputs": [],
   "source": [
    "def get_new_unseen_example(test_img = 'images/handtest/3.png'):\n",
    "    im = Image.open(test_img)\n",
    "    im.thumbnail((28,28), Image.ANTIALIAS)\n",
    "    test_img_arr = np.array(im)[:,:,3]\n",
    "    test_img_right_format = np.zeros(shape=(28,28,1))\n",
    "    test_img_right_format[:,:,0] = test_img_arr\n",
    "    test_img_right_format = test_img_right_format.astype(np.float32)\n",
    "    return test_img_right_format"
   ]
  },
  {
   "cell_type": "code",
   "execution_count": 268,
   "metadata": {},
   "outputs": [],
   "source": [
    "new_image = get_new_unseen_example()"
   ]
  },
  {
   "cell_type": "code",
   "execution_count": 272,
   "metadata": {},
   "outputs": [],
   "source": [
    "# for single images we need to make sure that the \n",
    "# format matches the architecture (1, 28, 28, 1) - (# images, size, size, channel)\n",
    "new_X = np.zeros(shape=(1,28,28,1))\n",
    "new_X[0,:,:,:] = new_image\n",
    "new_X = new_X.astype(np.float32)\n",
    "new_X = new_X / 255."
   ]
  },
  {
   "cell_type": "code",
   "execution_count": 273,
   "metadata": {},
   "outputs": [
    {
     "data": {
      "text/plain": [
       "<matplotlib.image.AxesImage at 0x7fc2612cf978>"
      ]
     },
     "execution_count": 273,
     "metadata": {},
     "output_type": "execute_result"
    },
    {
     "data": {
      "image/png": "[encoded data removed]",
      "text/plain": [
       "<Figure size 432x288 with 1 Axes>"
      ]
     },
     "metadata": {},
     "output_type": "display_data"
    }
   ],
   "source": [
    "plt.imshow(new_X[0, :,:,0], cmap='gray')"
   ]
  },
  {
   "cell_type": "markdown",
   "metadata": {},
   "source": [
    "Next, we need a label to train with as well. In the application this information comes from a drop-down menu."
   ]
  },
  {
   "cell_type": "code",
   "execution_count": 274,
   "metadata": {},
   "outputs": [],
   "source": [
    "new_Y = np.zeros(shape=(1, 1), dtype=int)\n",
    "new_Y[0] = 3"
   ]
  },
  {
   "cell_type": "code",
   "execution_count": 275,
   "metadata": {},
   "outputs": [],
   "source": [
    "train_new_input_fn = tf.estimator.inputs.numpy_input_fn(\n",
    "    x={\"x\": new_X},\n",
    "    y=new_Y,\n",
    "    batch_size=1,  # because we're inputting one image\n",
    "    num_epochs=4,\n",
    "    shuffle=True)"
   ]
  },
  {
   "cell_type": "code",
   "execution_count": 276,
   "metadata": {
    "scrolled": true
   },
   "outputs": [
    {
     "name": "stdout",
     "output_type": "stream",
     "text": [
      "INFO:tensorflow:Create CheckpointSaverHook.\n",
      "INFO:tensorflow:Restoring parameters from digit_final/model.ckpt-5000\n",
      "INFO:tensorflow:Saving checkpoints for 5001 into digit_final/model.ckpt.\n",
      "INFO:tensorflow:loss = 4.76836e-06, step = 5001\n",
      "INFO:tensorflow:Saving checkpoints for 5004 into digit_final/model.ckpt.\n",
      "INFO:tensorflow:Loss for final step: 6.198864e-06.\n"
     ]
    },
    {
     "data": {
      "text/plain": [
       "<tensorflow.python.estimator.estimator.Estimator at 0x7fc2228374a8>"
      ]
     },
     "execution_count": 276,
     "metadata": {},
     "output_type": "execute_result"
    }
   ],
   "source": [
    "test.train(\n",
    "    input_fn=train_new_input_fn,\n",
    "    steps=20)"
   ]
  },
  {
   "cell_type": "code",
   "execution_count": null,
   "metadata": {},
   "outputs": [],
   "source": []
  }
 ],
 "metadata": {
  "kernelspec": {
   "display_name": "Python 3",
   "language": "python",
   "name": "python3"
  },
  "language_info": {
   "codemirror_mode": {
    "name": "ipython",
    "version": 3
   },
   "file_extension": ".py",
   "mimetype": "text/x-python",
   "name": "python",
   "nbconvert_exporter": "python",
   "pygments_lexer": "ipython3",
   "version": "3.6.4"
  }
 },
 "nbformat": 4,
 "nbformat_minor": 2
}
